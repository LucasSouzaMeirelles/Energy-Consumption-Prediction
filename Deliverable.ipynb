{
 "cells": [
  {
   "cell_type": "code",
   "execution_count": 5,
   "id": "d3adb3b0-0c7a-430a-b6a0-98603b5f8e2a",
   "metadata": {},
   "outputs": [],
   "source": [
    "import pandas as pd\n",
    "import numpy as np\n",
    "from sklearn.linear_model import LinearRegression\n",
    "from scipy.stats import boxcox\n",
    "import joblib"
   ]
  },
  {
   "cell_type": "code",
   "execution_count": 6,
   "id": "245a978a-9e2f-4aa2-a4a6-ba075de88479",
   "metadata": {},
   "outputs": [],
   "source": [
    "def predict_concumption(building_type, square_footage, number_occupants, appliances_used):\n",
    "    \n",
    "    building_type_industrial = int(building_type == 'industrial')\n",
    "    building_type_residential = int(building_type == 'residential')\n",
    "\n",
    "    var_list = ['building_type_industrial', 'building_type_residential', 'square_footage', 'number_occupants', 'appliances_used']\n",
    "    values_list = [building_type_industrial, building_type_residential, square_footage, number_occupants, appliances_used]\n",
    "    input_dict = {}\n",
    "    x = pd.read_csv('analyzed_data.csv').drop('energy_consumption', axis=1)\n",
    "    \n",
    "    for var, value in zip(var_list, values_list):\n",
    "        value = (value - x[var].mean())/x[var].std()\n",
    "        input_dict[var] = [value]\n",
    "\n",
    "    input_df = pd.DataFrame(input_dict)\n",
    "\n",
    "    model = joblib.load('final_model.pkl')\n",
    "\n",
    "    y = pd.read_csv('analyzed_data.csv')['energy_consumption']\n",
    "    lamb = boxcox(y)[1]\n",
    "    consumption = model.predict(input_df)[0]\n",
    "    consumption = (lamb*consumption + 1)**(1/lamb)\n",
    "    return(consumption)"
   ]
  },
  {
   "cell_type": "code",
   "execution_count": 8,
   "id": "fd8fb566-b01b-4dec-b816-2f170a406b0d",
   "metadata": {},
   "outputs": [],
   "source": [
    "building_type = 'commercial'\n",
    "square_footage = 44372\n",
    "number_occupants = 66\n",
    "appliances_used = 45"
   ]
  },
  {
   "cell_type": "code",
   "execution_count": 9,
   "id": "ce7f1723-6432-49a3-9137-ab862ec70b5d",
   "metadata": {},
   "outputs": [
    {
     "data": {
      "text/plain": [
       "5689.396655062691"
      ]
     },
     "execution_count": 9,
     "metadata": {},
     "output_type": "execute_result"
    }
   ],
   "source": [
    "predict_concumption(building_type, square_footage, number_occupants, appliances_used)"
   ]
  }
 ],
 "metadata": {
  "kernelspec": {
   "display_name": "Python 3 (ipykernel)",
   "language": "python",
   "name": "python3"
  },
  "language_info": {
   "codemirror_mode": {
    "name": "ipython",
    "version": 3
   },
   "file_extension": ".py",
   "mimetype": "text/x-python",
   "name": "python",
   "nbconvert_exporter": "python",
   "pygments_lexer": "ipython3",
   "version": "3.12.2"
  }
 },
 "nbformat": 4,
 "nbformat_minor": 5
}
